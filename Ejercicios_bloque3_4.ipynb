{
 "cells": [
  {
   "cell_type": "code",
   "execution_count": 41,
   "metadata": {
    "collapsed": false
   },
   "outputs": [
    {
     "name": "stdout",
     "output_type": "stream",
     "text": [
      "[ 5 -1  8  2  9  7 -8 -6 -3 -9  0 -6  1  3 -5  4  0 -1  1 -8  5  0  8 -7  3\n",
      " -4  1 -9  8 -1  8  4 -4  9 -2]\n",
      "[[ 5 -1  8  2  9  7 -8]\n",
      " [-6 -3 -9  0 -6  1  3]\n",
      " [-5  4  0 -1  1 -8  5]\n",
      " [ 0  8 -7  3 -4  1 -9]\n",
      " [ 8 -1  8  4 -4  9 -2]]\n",
      "[-9 -8 -7 -6 -5 -4 -3 -2 -1  0  1  2  3  4  5  7  8  9]\n",
      "Media no duplicados -0.333333333333\n"
     ]
    }
   ],
   "source": [
    "#Ejercicio 1\n",
    "#Crea un array de 35 enteros aleatorios entre -10 y 10.\n",
    "import numpy as np\n",
    "a=np.random.randint(-10,10,size=35)\n",
    "print(a)\n",
    "#Redimensiónalo como matriz de 5x7\n",
    "a.shape=(5,7)\n",
    "print(a)\n",
    "#Obtén los números positivos de esa matriz utilizando boolean indexing.\n",
    "a[a>0]\n",
    "#Obtén con una función los datos no duplicados.\n",
    "def no_duplicados(s):\n",
    "    b=np.unique(s)\n",
    "    print(b)\n",
    "    return(b)\n",
    "c=no_duplicados(a)\n",
    "#Sobre los datos no duplicados, obtén la media.\n",
    "c=np.mean(c)\n",
    "print('Media no duplicados',c)"
   ]
  },
  {
   "cell_type": "code",
   "execution_count": 33,
   "metadata": {
    "collapsed": false
   },
   "outputs": [
    {
     "name": "stdout",
     "output_type": "stream",
     "text": [
      "[ 0.08011925  0.10991099  0.12753524  0.02758978  0.05805566  0.19748798\n",
      "  0.25450819  0.15728722  0.08354336  0.11676337  0.13486717  0.04634765\n",
      "  0.16905784  0.14331758  0.22622703  0.28780513  0.09612878  0.04267154\n",
      "  0.18747148  0.35792959  0.14221245  0.03234099  0.29396879  0.23732241\n",
      "  0.13602744  0.02977028  0.14592663  0.24817618  0.05657874  0.31137843\n",
      "  0.17528444  0.1265246   0.11174929  0.25091654  0.19027469  0.10737153\n",
      "  0.18574916  0.09483841  0.18687497  0.41269895  0.24050292  0.25487665\n",
      "  0.16615051  0.17366482  0.07349364  0.19845589  0.10262639  0.16584088\n",
      "  0.22350123  0.3086063   0.29582585  0.25445761  0.29247461  0.1762507\n",
      "  0.13934343  0.09265928  0.35452961  0.32542738  0.19200188  0.02902586\n",
      "  0.18722531  0.13131894  0.0961055   0.3546579   0.07200316  0.34776433\n",
      "  0.14598358  0.19325355  0.04826391  0.26799048  0.12664535  0.26801615\n",
      "  0.19596577  0.1328407   0.15102359  0.22324878  0.419449    0.00288842\n",
      "  0.03544298  0.0391604   0.54193988  0.11129611  0.02290493  0.10703538\n",
      "  0.06002998  0.03184936  0.13275927  0.14491648  0.11206883  0.13253149\n",
      "  0.1970048   0.22888072  0.03681331  0.15045544  0.35425119  0.10918813\n",
      "  0.19255022  0.15086745  0.09996806  0.08435534]\n",
      "[-2.31976239  0.37781354  0.88242348 -0.942975   -0.15880974 -0.03877404\n",
      " -1.47795614  0.08151105  0.70771073 -1.77635635 -1.51429586  0.36768274\n",
      " -0.83268368 -1.21858891  1.34221042  0.98886247  0.34968409 -0.38291823\n",
      "  1.35542784 -0.39401295 -0.31392206  0.58008823 -0.50167926 -2.28892215\n",
      " -0.38450096  0.13047801 -1.48806028  0.34729622 -1.54169664  1.47693757\n",
      "  0.83774486 -0.77762759  0.44282509  0.04530154  0.53695124 -0.12717071\n",
      " -0.4097593  -1.06775271  0.01625717 -0.41996684  1.3824721  -0.67991128\n",
      "  0.03196665  0.73153063 -0.45745867 -0.55662109  0.49406057 -0.51082266\n",
      "  1.5711274  -1.27881931  1.53606246 -1.54580687  1.21719172 -0.17453922\n",
      " -2.08338778 -0.37129132  1.40640541  1.37149578 -1.19833375  1.12028277\n",
      "  1.52316791  0.47858744  0.117628   -0.60685337  0.8897288   1.33228044\n",
      "  0.04917458  0.26480376  0.63714692  0.10054979  0.49192862 -0.03150018\n",
      " -2.73026477 -0.30000437 -0.97672795  0.93266397  2.0142869   0.50633853\n",
      " -0.96241356 -1.03670854 -1.07198886 -0.15703701 -0.38821689 -0.53029994\n",
      " -0.45688654 -0.31215893  0.56643097  0.25327891 -1.0384847   1.0507105\n",
      "  0.94878873 -0.90845887 -0.49904706  0.08811305 -0.05207279 -1.02895334\n",
      " -0.14999706  1.19034104 -0.34166654 -0.31387453]\n"
     ]
    },
    {
     "data": {
      "text/plain": [
       "Ttest_1sampResult(statistic=24.257937630992547, pvalue=1.8908411598880463e-43)"
      ]
     },
     "execution_count": 33,
     "metadata": {},
     "output_type": "execute_result"
    },
    {
     "data": {
      "image/png": "[encoded data removed]",
      "text/plain": [
       "<matplotlib.figure.Figure at 0x1c25046bc18>"
      ]
     },
     "metadata": {},
     "output_type": "display_data"
    }
   ],
   "source": [
    "#Ejercicio 2\n",
    "#Crea dos arrays de 100 elementos con números aleatorios de\n",
    "#distribuciones diferentes, pero en un rango de valores similar\n",
    "import numpy as np\n",
    "a=np.random.beta(2,10,size=100)\n",
    "print(a)\n",
    "b=np.random.randn(100)\n",
    "print(b)\n",
    "\n",
    "#Dibuja sus histogramas y compáralos\n",
    "%matplotlib inline \n",
    "import matplotlib.pyplot as plt \n",
    "plt.hist(a, bins=100,color=\"green\") \n",
    "plt.hist(b, bins=100,color=\"red\")\n",
    "\n",
    "#Busca en scypy.stats una función para hacer una comprobación (mediante un t-test) de si la media \n",
    "#de los elementos en los dos arrays es diferente.\n",
    "from scipy import stats\n",
    "media=np.mean(b)\n",
    "stats.ttest_1samp(a,media)"
   ]
  },
  {
   "cell_type": "code",
   "execution_count": null,
   "metadata": {
    "collapsed": true
   },
   "outputs": [],
   "source": []
  }
 ],
 "metadata": {
  "anaconda-cloud": {},
  "kernelspec": {
   "display_name": "Python [default]",
   "language": "python",
   "name": "python3"
  },
  "language_info": {
   "codemirror_mode": {
    "name": "ipython",
    "version": 3
   },
   "file_extension": ".py",
   "mimetype": "text/x-python",
   "name": "python",
   "nbconvert_exporter": "python",
   "pygments_lexer": "ipython3",
   "version": "3.5.2"
  }
 },
 "nbformat": 4,
 "nbformat_minor": 1
}
