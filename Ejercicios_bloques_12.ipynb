{
 "cells": [
  {
   "cell_type": "code",
   "execution_count": 1,
   "metadata": {
    "collapsed": false
   },
   "outputs": [
    {
     "name": "stdout",
     "output_type": "stream",
     "text": [
      "Impar 1\n",
      "Par 2\n",
      "Impar 3\n",
      "Par 4\n",
      "Impar 5\n",
      "[2, 4]\n"
     ]
    }
   ],
   "source": [
    "#Ejercicio 1\n",
    "L=[1,2,3,4,5]\n",
    "for e in L:\n",
    "    if e % 2 == 0:\n",
    "        print('Par '+ str(e))\n",
    "    else:\n",
    "        print('Impar '+ str(e))\n",
    "\n",
    "#Con list comprehesion\n",
    "pares = [x for x in  L if x % 2 == 0]\n",
    "print(pares)"
   ]
  },
  {
   "cell_type": "code",
   "execution_count": 5,
   "metadata": {
    "collapsed": false
   },
   "outputs": [
    {
     "name": "stdout",
     "output_type": "stream",
     "text": [
      " Los números son parecidos con un error de 0.05 \n"
     ]
    },
    {
     "data": {
      "text/plain": [
       "True"
      ]
     },
     "execution_count": 5,
     "metadata": {},
     "output_type": "execute_result"
    }
   ],
   "source": [
    "#Ejercicio 2\n",
    "a=1.3\n",
    "b=1.34\n",
    "error=0.05\n",
    "def reales_mas_o_menos(x,y,z):\n",
    "    if (x>=y-z or x<=y+z):\n",
    "        print(\" Los números son parecidos con un error de 0.05 \")\n",
    "        return (True)\n",
    "    else:\n",
    "        return (False)\n",
    "        \n",
    "reales_mas_o_menos(a,b,error)   "
   ]
  },
  {
   "cell_type": "code",
   "execution_count": 7,
   "metadata": {
    "collapsed": false
   },
   "outputs": [
    {
     "data": {
      "text/plain": [
       "50"
      ]
     },
     "execution_count": 7,
     "metadata": {},
     "output_type": "execute_result"
    }
   ],
   "source": [
    "#Ejercicio 3\n",
    "L=[1,2,3,50,3,4,4,4,4,6,8,1,8]\n",
    "def mayor (x,y):\n",
    "    if (x>y):\n",
    "        return(x)\n",
    "    else:\n",
    "        return(y)\n",
    "\n",
    "from functools import reduce \n",
    "reduce (mayor,L)"
   ]
  },
  {
   "cell_type": "code",
   "execution_count": 24,
   "metadata": {
    "collapsed": false
   },
   "outputs": [
    {
     "name": "stdout",
     "output_type": "stream",
     "text": [
      "Mar#al Mora\n"
     ]
    }
   ],
   "source": [
    "#Ejercicio 4\n",
    "nombre = \"Marçal Mora\"\n",
    "nombre2= nombre.encode(\"cp1252\")\n",
    "nombre2.decode (\"ascii\",\"replace\")\n",
    "nombre=[x for x in nombre2.decode (\"ascii\",\"replace\")]\n",
    "nombre3=\"\"\n",
    "for i in nombre:\n",
    "    if i== '�':\n",
    "        nombre3=nombre3+'#'\n",
    "    else:\n",
    "        nombre3=nombre3+i\n",
    "print(nombre3)"
   ]
  },
  {
   "cell_type": "code",
   "execution_count": 12,
   "metadata": {
    "collapsed": false
   },
   "outputs": [
    {
     "data": {
      "text/plain": [
       "22.653103060654324"
      ]
     },
     "execution_count": 12,
     "metadata": {},
     "output_type": "execute_result"
    }
   ],
   "source": [
    "#Ejercicio 5 Utilizando map y reduce hacer un programa que tome una lista y le aplique\n",
    "#de manera aleatoria una de entre varias funciones a cada uno de sus\n",
    "#elementos, y que después aleatoriamente obtenga bien la media o la mediana\n",
    "#de los elementos de la lista. Utilizad el módulo statistics\n",
    "import random\n",
    "import statistics\n",
    "import math\n",
    "\n",
    "\n",
    "L=[1,2,3,4,5,5,5,5,7,8,8,8,8,8,8]\n",
    "funciones=['cuadrado', 'modulo', 'raiz']\n",
    "\n",
    "def aleatorio (x):\n",
    "    y = random.choice(funciones)\n",
    "    if y=='cuadrado':\n",
    "        x=x*x\n",
    "    if y=='modulo':\n",
    "        x=x%2\n",
    "    if y=='raiz':\n",
    "        x=math.sqrt(x)\n",
    "    return(x)\n",
    "\n",
    "L1=list(map (lambda x: aleatorio(x), L))\n",
    "\n",
    "random.choice([statistics.mean(L1),statistics.median(L1)])\n",
    "\n",
    "\n"
   ]
  },
  {
   "cell_type": "code",
   "execution_count": 23,
   "metadata": {
    "collapsed": false
   },
   "outputs": [
    {
     "name": "stdout",
     "output_type": "stream",
     "text": [
      "[('Hola', ''), ('estoy', ''), ('bien', ''), (':)', ''), (':(', '')]\n",
      "[(':)', ''), (':(', '')]\n"
     ]
    }
   ],
   "source": [
    "#Ejercicio 6. Definir y probar una expresión regular para detectar algunos emoticonos en\n",
    "#una cadena de caracteres.\n",
    "import re\n",
    "frase='Hola estoy bien :) :('\n",
    "palabras=re.findall(\"([0-9A-Za-z'\\&\\-\\.\\/\\(\\)=:;]+)|((?::|;|=)(?:-)?(?:\\)|D|P))\", frase)\n",
    "print(palabras)\n",
    "emoticono=re.findall(\"([\\/\\(\\)=:;]+)|((?::|;|=)(?:-)?(?:\\)|D|P))\", frase)\n",
    "print(emoticono)"
   ]
  },
  {
   "cell_type": "code",
   "execution_count": 12,
   "metadata": {
    "collapsed": false
   },
   "outputs": [
    {
     "name": "stdout",
     "output_type": "stream",
     "text": [
      "-rw-r--r--    1 787      1103       116280 Sep 22  1997 abalone.tar.gz\n",
      "-rw-r--r--    1 787      1103       851173 Sep 22  1997 add10.tar.gz\n",
      "-rw-r--r--    1 787      1103      1849361 Sep 22  1997 adult.tar.gz\n",
      "drwxr-xr-x    2 787      1103           10 Sep 22  1997 bank-family\n",
      "-rw-r--r--    1 787      1103        76569 Sep 22  1997 boston.tar.gz\n",
      "-rw-r--r--    1 787      1103     48903479 Sep 22  1997 census-house.tar.gz\n",
      "-rw-r--r--    1 787      1103      4326524 Sep 22  1997 comp-activ.tar.gz\n",
      "-rw-r--r--    1 787      1103        85256 Sep 22  1997 demo.tar.gz\n",
      "-rw-r--r--    1 787      1103      2432652 Sep 22  1997 hwang.tar.gz\n",
      "-rw-r--r--    1 787      1103       330996 Sep 22  1997 image-seg.tar.gz\n",
      "drwxr-xr-x    2 787      1103           10 Sep 22  1997 kin-family\n",
      "-rw-r--r--    1 787      1103       602099 Sep 22  1997 letter.tar.gz\n",
      "-rw-r--r--    1 787      1103       112786 Sep 22  1997 mushrooms.tar.gz\n",
      "drwxr-xr-x    2 787      1103           10 Sep 22  1997 pumadyn-family\n",
      "-rw-r--r--    1 787      1103       871251 Sep 22  1997 ringnorm.tar.gz\n",
      "-rw-r--r--    1 787      1103       227249 Sep 22  1997 splice.tar.gz\n",
      "-rw-r--r--    1 787      1103        11908 Sep 22  1997 titanic.tar.gz\n",
      "-rw-r--r--    1 787      1103       845766 Sep 22  1997 twonorm.tar.gz\n"
     ]
    },
    {
     "data": {
      "text/plain": [
       "<bound method TarFile.close of <tarfile.TarFile object at 0x000001BCCB7DD780>>"
      ]
     },
     "execution_count": 12,
     "metadata": {},
     "output_type": "execute_result"
    }
   ],
   "source": [
    "#Ejercicio 9 Descargar y descomprimir el fichero .tar.gz de los casos del Titanic:\n",
    "#http://www.cs.toronto.edu/~delve/data/titanic/desc.html (investigar las librerías para hacerlo).\n",
    "from ftplib import FTP\n",
    "uri = \"ftp://ftp.cs.toronto.edu/pub/neuron/delve/data/tarfiles/titanic.tar.gz\"\n",
    "\n",
    "ftp = FTP('ftp.cs.toronto.edu')     # connect to host, default port\n",
    "ftp.login() \n",
    "ftp.cwd('pub/neuron/delve/data/tarfiles') #Cambio de directorio\n",
    "ftp.retrlines('LIST') #Listado de contenido de directorio\n",
    "ftp.retrbinary('RETR titanic.tar.gz', open('titanic.tar.gz', 'wb').write) #Descarga de archivo\n",
    "ftp.quit() #Salir FTP\n",
    "\n",
    "#Descomprimir fichero\n",
    "import tarfile\n",
    "\n",
    "tar=tarfile.open(\"titanic.tar.gz\",\"r:gz\")\n",
    "for tarinfo in tar:\n",
    "  tar.extract(tarinfo)\n",
    "tar.close"
   ]
  },
  {
   "cell_type": "code",
   "execution_count": 39,
   "metadata": {
    "collapsed": false
   },
   "outputs": [
    {
     "name": "stdout",
     "output_type": "stream",
     "text": [
      "j3.datss\n"
     ]
    }
   ],
   "source": [
    "#Ejercicio 13 Crear una función que tome una lista de ficheros y los borre del disco si los\n",
    "#encuentra en una carpeta dada.\n",
    "import os\n",
    "\n",
    "#def tratar_ficheros():\n",
    "L=['j1.txt','j2.txt','j3.txt']\n",
    "carpeta=\"./ana/\"\n",
    "\n",
    "def fichero(x,lista):\n",
    "    for j in lista:\n",
    "        if x==j:\n",
    "            os.remove(carpeta+x)\n",
    "\n",
    "for files in os.listdir(carpeta):\n",
    "    fichero(files,L)         \n",
    "    print (files)\n",
    "   "
   ]
  },
  {
   "cell_type": "code",
   "execution_count": null,
   "metadata": {
    "collapsed": true
   },
   "outputs": [],
   "source": []
  },
  {
   "cell_type": "code",
   "execution_count": null,
   "metadata": {
    "collapsed": true
   },
   "outputs": [],
   "source": []
  }
 ],
 "metadata": {
  "anaconda-cloud": {},
  "kernelspec": {
   "display_name": "Python [default]",
   "language": "python",
   "name": "python3"
  },
  "language_info": {
   "codemirror_mode": {
    "name": "ipython",
    "version": 3
   },
   "file_extension": ".py",
   "mimetype": "text/x-python",
   "name": "python",
   "nbconvert_exporter": "python",
   "pygments_lexer": "ipython3",
   "version": "3.5.2"
  }
 },
 "nbformat": 4,
 "nbformat_minor": 1
}
