{
 "cells": [
  {
   "cell_type": "code",
   "execution_count": 1,
   "metadata": {
    "collapsed": false
   },
   "outputs": [
    {
     "name": "stdout",
     "output_type": "stream",
     "text": [
      "Impar 1\n",
      "Par 2\n",
      "Impar 3\n",
      "Par 4\n",
      "Impar 5\n",
      "[2, 4]\n"
     ]
    }
   ],
   "source": [
    "#Ejercicio 1\n",
    "L=[1,2,3,4,5]\n",
    "for e in L:\n",
    "    if e % 2 == 0:\n",
    "        print('Par '+ str(e))\n",
    "    else:\n",
    "        print('Impar '+ str(e))\n",
    "\n",
    "#Con list comprehesion\n",
    "pares = [x for x in  L if x % 2 == 0]\n",
    "print(pares)"
   ]
  },
  {
   "cell_type": "code",
   "execution_count": 5,
   "metadata": {
    "collapsed": false
   },
   "outputs": [
    {
     "name": "stdout",
     "output_type": "stream",
     "text": [
      " Los números son parecidos con un error de 0.05 \n"
     ]
    },
    {
     "data": {
      "text/plain": [
       "True"
      ]
     },
     "execution_count": 5,
     "metadata": {},
     "output_type": "execute_result"
    }
   ],
   "source": [
    "#Ejercicio 2\n",
    "a=1.3\n",
    "b=1.34\n",
    "error=0.05\n",
    "def reales_mas_o_menos(x,y,z):\n",
    "    if (x>=y-z or x<=y+z):\n",
    "        print(\" Los números son parecidos con un error de 0.05 \")\n",
    "        return (True)\n",
    "    else:\n",
    "        return (False)\n",
    "        \n",
    "reales_mas_o_menos(a,b,error)   "
   ]
  },
  {
   "cell_type": "code",
   "execution_count": 7,
   "metadata": {
    "collapsed": false
   },
   "outputs": [
    {
     "data": {
      "text/plain": [
       "50"
      ]
     },
     "execution_count": 7,
     "metadata": {},
     "output_type": "execute_result"
    }
   ],
   "source": [
    "#Ejercicio 3\n",
    "L=[1,2,3,50,3,4,4,4,4,6,8,1,8]\n",
    "def mayor (x,y):\n",
    "    if (x>y):\n",
    "        return(x)\n",
    "    else:\n",
    "        return(y)\n",
    "\n",
    "from functools import reduce \n",
    "reduce (mayor,L)"
   ]
  },
  {
   "cell_type": "code",
   "execution_count": 24,
   "metadata": {
    "collapsed": false
   },
   "outputs": [
    {
     "name": "stdout",
     "output_type": "stream",
     "text": [
      "Mar#al Mora\n"
     ]
    }
   ],
   "source": [
    "#Ejercicio 4\n",
    "nombre = \"Marçal Mora\"\n",
    "nombre2= nombre.encode(\"cp1252\")\n",
    "nombre2.decode (\"ascii\",\"replace\")\n",
    "nombre=[x for x in nombre2.decode (\"ascii\",\"replace\")]\n",
    "nombre3=\"\"\n",
    "for i in nombre:\n",
    "    if i== '�':\n",
    "        nombre3=nombre3+'#'\n",
    "    else:\n",
    "        nombre3=nombre3+i\n",
    "print(nombre3)"
   ]
  },
  {
   "cell_type": "code",
   "execution_count": null,
   "metadata": {
    "collapsed": true
   },
   "outputs": [],
   "source": [
    "#Ejercicio 5 Utilizando map y reduce hacer un programa que tome una lista y le aplique\n",
    "#de manera aleatoria una de entre varias funciones a cada uno de sus\n",
    "#elementos, y que después aleatoriamente obtenga bien la media o la mediana\n",
    "#de los elementos de la lista. Utilizad el módulo statistics\n",
    "L=[1,2,3,4,5,5,5,5,7,8,8,8,8,8,8]\n",
    "import statistics\n"
   ]
  }
 ],
 "metadata": {
  "anaconda-cloud": {},
  "kernelspec": {
   "display_name": "Python [default]",
   "language": "python",
   "name": "python3"
  },
  "language_info": {
   "codemirror_mode": {
    "name": "ipython",
    "version": 3
   },
   "file_extension": ".py",
   "mimetype": "text/x-python",
   "name": "python",
   "nbconvert_exporter": "python",
   "pygments_lexer": "ipython3",
   "version": "3.5.2"
  }
 },
 "nbformat": 4,
 "nbformat_minor": 1
}
